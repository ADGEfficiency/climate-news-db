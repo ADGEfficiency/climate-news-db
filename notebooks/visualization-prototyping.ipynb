{
 "cells": [
  {
   "cell_type": "code",
   "execution_count": 1,
   "metadata": {},
   "outputs": [],
   "source": [
    "import sys\n",
    "sys.path.append('..')"
   ]
  },
  {
   "cell_type": "code",
   "execution_count": 2,
   "metadata": {},
   "outputs": [],
   "source": [
    "from database import TextFiles\n",
    "from analytics import create_article_df, groupby_newspaper\n",
    "\n",
    "db = TextFiles('final')\n",
    "articles = db.get_all_articles()"
   ]
  },
  {
   "cell_type": "code",
   "execution_count": 3,
   "metadata": {},
   "outputs": [
    {
     "name": "stdout",
     "output_type": "stream",
     "text": [
      "newspaper                 object\n",
      "body                      object\n",
      "url                       object\n",
      "id                        object\n",
      "published    datetime64[ns, UTC]\n",
      "modified                  object\n",
      "dtype: object\n"
     ]
    },
    {
     "data": {
      "text/html": [
       "<div>\n",
       "<style scoped>\n",
       "    .dataframe tbody tr th:only-of-type {\n",
       "        vertical-align: middle;\n",
       "    }\n",
       "\n",
       "    .dataframe tbody tr th {\n",
       "        vertical-align: top;\n",
       "    }\n",
       "\n",
       "    .dataframe thead th {\n",
       "        text-align: right;\n",
       "    }\n",
       "</style>\n",
       "<table border=\"1\" class=\"dataframe\">\n",
       "  <thead>\n",
       "    <tr style=\"text-align: right;\">\n",
       "      <th></th>\n",
       "      <th>newspaper</th>\n",
       "      <th>body</th>\n",
       "      <th>url</th>\n",
       "      <th>id</th>\n",
       "      <th>published</th>\n",
       "      <th>modified</th>\n",
       "    </tr>\n",
       "  </thead>\n",
       "  <tbody>\n",
       "    <tr>\n",
       "      <th>0</th>\n",
       "      <td>fox</td>\n",
       "      <td>Throughout my 40 year career as a meteorologis...</td>\n",
       "      <td>https://www.foxnews.com/opinion/joe-bastardi-c...</td>\n",
       "      <td>joe-bastardi-climate-change-agenda-is-being-dr...</td>\n",
       "      <td>2019-04-01 14:18:32+00:00</td>\n",
       "      <td>2019-04-01T12:59:44-04:00</td>\n",
       "    </tr>\n",
       "    <tr>\n",
       "      <th>1</th>\n",
       "      <td>guardian</td>\n",
       "      <td>Climate change made 2011-2015 the warmest five...</td>\n",
       "      <td>https://www.theguardian.com/environment/2015/n...</td>\n",
       "      <td>climate-change-makes-past-five-year-period-the...</td>\n",
       "      <td>2015-11-25 12:52:05+00:00</td>\n",
       "      <td>NaN</td>\n",
       "    </tr>\n",
       "    <tr>\n",
       "      <th>2</th>\n",
       "      <td>guardian</td>\n",
       "      <td>Over the past few weeks Clover Hogan has found...</td>\n",
       "      <td>https://www.theguardian.com/environment/2020/f...</td>\n",
       "      <td>overwhelming-and-terrifying-impact-of-climate-...</td>\n",
       "      <td>2020-02-10 06:16:32+00:00</td>\n",
       "      <td>NaN</td>\n",
       "    </tr>\n",
       "    <tr>\n",
       "      <th>3</th>\n",
       "      <td>fox</td>\n",
       "      <td>\\n(NASA)Critics are slamming Reddit over a sin...</td>\n",
       "      <td>https://www.foxnews.com/science/critics-blast-...</td>\n",
       "      <td>critics-blast-reddit-over-climate-change-skept...</td>\n",
       "      <td>2015-03-25 20:06:57+00:00</td>\n",
       "      <td>2015-01-12T14:43:20-05:00</td>\n",
       "    </tr>\n",
       "    <tr>\n",
       "      <th>4</th>\n",
       "      <td>guardian</td>\n",
       "      <td>The fifth Intergovernmental Panel on Climate C...</td>\n",
       "      <td>https://www.theguardian.com/environment/climat...</td>\n",
       "      <td>climate-change-contrarians-5-stages-denial</td>\n",
       "      <td>2013-09-16 02:42:00+00:00</td>\n",
       "      <td>NaN</td>\n",
       "    </tr>\n",
       "  </tbody>\n",
       "</table>\n",
       "</div>"
      ],
      "text/plain": [
       "  newspaper                                               body                                                url                                                 id                 published                   modified\n",
       "0       fox  Throughout my 40 year career as a meteorologis...  https://www.foxnews.com/opinion/joe-bastardi-c...  joe-bastardi-climate-change-agenda-is-being-dr... 2019-04-01 14:18:32+00:00  2019-04-01T12:59:44-04:00\n",
       "1  guardian  Climate change made 2011-2015 the warmest five...  https://www.theguardian.com/environment/2015/n...  climate-change-makes-past-five-year-period-the... 2015-11-25 12:52:05+00:00                        NaN\n",
       "2  guardian  Over the past few weeks Clover Hogan has found...  https://www.theguardian.com/environment/2020/f...  overwhelming-and-terrifying-impact-of-climate-... 2020-02-10 06:16:32+00:00                        NaN\n",
       "3       fox  \\n(NASA)Critics are slamming Reddit over a sin...  https://www.foxnews.com/science/critics-blast-...  critics-blast-reddit-over-climate-change-skept... 2015-03-25 20:06:57+00:00  2015-01-12T14:43:20-05:00\n",
       "4  guardian  The fifth Intergovernmental Panel on Climate C...  https://www.theguardian.com/environment/climat...         climate-change-contrarians-5-stages-denial 2013-09-16 02:42:00+00:00                        NaN"
      ]
     },
     "execution_count": 3,
     "metadata": {},
     "output_type": "execute_result"
    }
   ],
   "source": [
    "df = create_article_df(articles)\n",
    "print(df.dtypes)\n",
    "\n",
    "df.head()"
   ]
  },
  {
   "cell_type": "code",
   "execution_count": 4,
   "metadata": {},
   "outputs": [
    {
     "data": {
      "text/html": [
       "<div>\n",
       "<style scoped>\n",
       "    .dataframe tbody tr th:only-of-type {\n",
       "        vertical-align: middle;\n",
       "    }\n",
       "\n",
       "    .dataframe tbody tr th {\n",
       "        vertical-align: top;\n",
       "    }\n",
       "\n",
       "    .dataframe thead th {\n",
       "        text-align: right;\n",
       "    }\n",
       "</style>\n",
       "<table border=\"1\" class=\"dataframe\">\n",
       "  <thead>\n",
       "    <tr style=\"text-align: right;\">\n",
       "      <th></th>\n",
       "      <th>newspaper</th>\n",
       "      <th>body</th>\n",
       "      <th>url</th>\n",
       "      <th>id</th>\n",
       "      <th>published</th>\n",
       "      <th>modified</th>\n",
       "    </tr>\n",
       "    <tr>\n",
       "      <th>published</th>\n",
       "      <th></th>\n",
       "      <th></th>\n",
       "      <th></th>\n",
       "      <th></th>\n",
       "      <th></th>\n",
       "      <th></th>\n",
       "    </tr>\n",
       "  </thead>\n",
       "  <tbody>\n",
       "    <tr>\n",
       "      <th>2007</th>\n",
       "      <td>2</td>\n",
       "      <td>2</td>\n",
       "      <td>2</td>\n",
       "      <td>2</td>\n",
       "      <td>2</td>\n",
       "      <td>0</td>\n",
       "    </tr>\n",
       "    <tr>\n",
       "      <th>2008</th>\n",
       "      <td>1</td>\n",
       "      <td>1</td>\n",
       "      <td>1</td>\n",
       "      <td>1</td>\n",
       "      <td>1</td>\n",
       "      <td>0</td>\n",
       "    </tr>\n",
       "    <tr>\n",
       "      <th>2009</th>\n",
       "      <td>3</td>\n",
       "      <td>3</td>\n",
       "      <td>3</td>\n",
       "      <td>3</td>\n",
       "      <td>3</td>\n",
       "      <td>0</td>\n",
       "    </tr>\n",
       "    <tr>\n",
       "      <th>2010</th>\n",
       "      <td>2</td>\n",
       "      <td>2</td>\n",
       "      <td>2</td>\n",
       "      <td>2</td>\n",
       "      <td>2</td>\n",
       "      <td>0</td>\n",
       "    </tr>\n",
       "    <tr>\n",
       "      <th>2011</th>\n",
       "      <td>6</td>\n",
       "      <td>6</td>\n",
       "      <td>6</td>\n",
       "      <td>6</td>\n",
       "      <td>6</td>\n",
       "      <td>0</td>\n",
       "    </tr>\n",
       "    <tr>\n",
       "      <th>2012</th>\n",
       "      <td>7</td>\n",
       "      <td>7</td>\n",
       "      <td>7</td>\n",
       "      <td>7</td>\n",
       "      <td>7</td>\n",
       "      <td>0</td>\n",
       "    </tr>\n",
       "    <tr>\n",
       "      <th>2013</th>\n",
       "      <td>12</td>\n",
       "      <td>12</td>\n",
       "      <td>12</td>\n",
       "      <td>12</td>\n",
       "      <td>12</td>\n",
       "      <td>0</td>\n",
       "    </tr>\n",
       "    <tr>\n",
       "      <th>2014</th>\n",
       "      <td>15</td>\n",
       "      <td>15</td>\n",
       "      <td>15</td>\n",
       "      <td>15</td>\n",
       "      <td>15</td>\n",
       "      <td>0</td>\n",
       "    </tr>\n",
       "    <tr>\n",
       "      <th>2015</th>\n",
       "      <td>68</td>\n",
       "      <td>68</td>\n",
       "      <td>68</td>\n",
       "      <td>68</td>\n",
       "      <td>68</td>\n",
       "      <td>58</td>\n",
       "    </tr>\n",
       "    <tr>\n",
       "      <th>2016</th>\n",
       "      <td>24</td>\n",
       "      <td>24</td>\n",
       "      <td>24</td>\n",
       "      <td>24</td>\n",
       "      <td>24</td>\n",
       "      <td>6</td>\n",
       "    </tr>\n",
       "    <tr>\n",
       "      <th>2017</th>\n",
       "      <td>32</td>\n",
       "      <td>32</td>\n",
       "      <td>32</td>\n",
       "      <td>32</td>\n",
       "      <td>32</td>\n",
       "      <td>10</td>\n",
       "    </tr>\n",
       "    <tr>\n",
       "      <th>2018</th>\n",
       "      <td>95</td>\n",
       "      <td>95</td>\n",
       "      <td>95</td>\n",
       "      <td>95</td>\n",
       "      <td>95</td>\n",
       "      <td>30</td>\n",
       "    </tr>\n",
       "    <tr>\n",
       "      <th>2019</th>\n",
       "      <td>333</td>\n",
       "      <td>333</td>\n",
       "      <td>333</td>\n",
       "      <td>333</td>\n",
       "      <td>333</td>\n",
       "      <td>146</td>\n",
       "    </tr>\n",
       "    <tr>\n",
       "      <th>2020</th>\n",
       "      <td>236</td>\n",
       "      <td>236</td>\n",
       "      <td>236</td>\n",
       "      <td>236</td>\n",
       "      <td>236</td>\n",
       "      <td>31</td>\n",
       "    </tr>\n",
       "  </tbody>\n",
       "</table>\n",
       "</div>"
      ],
      "text/plain": [
       "           newspaper  body  url   id  published  modified\n",
       "published                                                \n",
       "2007               2     2    2    2          2         0\n",
       "2008               1     1    1    1          1         0\n",
       "2009               3     3    3    3          3         0\n",
       "2010               2     2    2    2          2         0\n",
       "2011               6     6    6    6          6         0\n",
       "2012               7     7    7    7          7         0\n",
       "2013              12    12   12   12         12         0\n",
       "2014              15    15   15   15         15         0\n",
       "2015              68    68   68   68         68        58\n",
       "2016              24    24   24   24         24         6\n",
       "2017              32    32   32   32         32        10\n",
       "2018              95    95   95   95         95        30\n",
       "2019             333   333  333  333        333       146\n",
       "2020             236   236  236  236        236        31"
      ]
     },
     "execution_count": 4,
     "metadata": {},
     "output_type": "execute_result"
    }
   ],
   "source": [
    "years = df.groupby(df.loc[:, 'published'].dt.year).count()\n",
    "years"
   ]
  },
  {
   "cell_type": "code",
   "execution_count": 5,
   "metadata": {},
   "outputs": [
    {
     "data": {
      "text/plain": [
       "<BarContainer object of 14 artists>"
      ]
     },
     "execution_count": 5,
     "metadata": {},
     "output_type": "execute_result"
    },
    {
     "data": {
      "image/png": "[encoded data removed]",
      "text/plain": [
       "<Figure size 432x288 with 1 Axes>"
      ]
     },
     "metadata": {
      "needs_background": "light"
     },
     "output_type": "display_data"
    }
   ],
   "source": [
    "import matplotlib.pyplot as plt\n",
    "\n",
    "f, axes = plt.subplots()\n",
    "\n",
    "axes.bar(x=years.index, height=years.loc[:, 'newspaper'])"
   ]
  },
  {
   "cell_type": "code",
   "execution_count": 6,
   "metadata": {},
   "outputs": [],
   "source": [
    "lens = groupby_newspaper(df)"
   ]
  },
  {
   "cell_type": "code",
   "execution_count": 7,
   "metadata": {},
   "outputs": [
    {
     "data": {
      "text/html": [
       "<div>\n",
       "<style scoped>\n",
       "    .dataframe tbody tr th:only-of-type {\n",
       "        vertical-align: middle;\n",
       "    }\n",
       "\n",
       "    .dataframe tbody tr th {\n",
       "        vertical-align: top;\n",
       "    }\n",
       "\n",
       "    .dataframe thead th {\n",
       "        text-align: right;\n",
       "    }\n",
       "</style>\n",
       "<table border=\"1\" class=\"dataframe\">\n",
       "  <thead>\n",
       "    <tr style=\"text-align: right;\">\n",
       "      <th></th>\n",
       "      <th>newspaper</th>\n",
       "      <th>average_article_length</th>\n",
       "      <th>article_count</th>\n",
       "    </tr>\n",
       "  </thead>\n",
       "  <tbody>\n",
       "    <tr>\n",
       "      <th>0</th>\n",
       "      <td>fox</td>\n",
       "      <td>624.131673</td>\n",
       "      <td>281</td>\n",
       "    </tr>\n",
       "    <tr>\n",
       "      <th>1</th>\n",
       "      <td>guardian</td>\n",
       "      <td>919.611511</td>\n",
       "      <td>278</td>\n",
       "    </tr>\n",
       "    <tr>\n",
       "      <th>2</th>\n",
       "      <td>nytimes</td>\n",
       "      <td>1295.969325</td>\n",
       "      <td>163</td>\n",
       "    </tr>\n",
       "    <tr>\n",
       "      <th>3</th>\n",
       "      <td>skyau</td>\n",
       "      <td>126.535088</td>\n",
       "      <td>114</td>\n",
       "    </tr>\n",
       "  </tbody>\n",
       "</table>\n",
       "</div>"
      ],
      "text/plain": [
       "  newspaper  average_article_length  article_count\n",
       "0       fox              624.131673            281\n",
       "1  guardian              919.611511            278\n",
       "2   nytimes             1295.969325            163\n",
       "3     skyau              126.535088            114"
      ]
     },
     "execution_count": 7,
     "metadata": {},
     "output_type": "execute_result"
    }
   ],
   "source": [
    "lens"
   ]
  },
  {
   "cell_type": "code",
   "execution_count": 8,
   "metadata": {},
   "outputs": [
    {
     "data": {
      "text/plain": [
       "[{'newspaper': 'fox',\n",
       "  'average_article_length': 624.1316725978647,\n",
       "  'article_count': 281},\n",
       " {'newspaper': 'guardian',\n",
       "  'average_article_length': 919.6115107913669,\n",
       "  'article_count': 278},\n",
       " {'newspaper': 'nytimes',\n",
       "  'average_article_length': 1295.9693251533743,\n",
       "  'article_count': 163},\n",
       " {'newspaper': 'skyau',\n",
       "  'average_article_length': 126.53508771929825,\n",
       "  'article_count': 114}]"
      ]
     },
     "execution_count": 8,
     "metadata": {},
     "output_type": "execute_result"
    }
   ],
   "source": [
    "lens.to_dict(orient='records')"
   ]
  },
  {
   "cell_type": "code",
   "execution_count": null,
   "metadata": {},
   "outputs": [],
   "source": []
  }
 ],
 "metadata": {
  "kernelspec": {
   "display_name": "Python 3",
   "language": "python",
   "name": "python3"
  },
  "language_info": {
   "codemirror_mode": {
    "name": "ipython",
    "version": 3
   },
   "file_extension": ".py",
   "mimetype": "text/x-python",
   "name": "python",
   "nbconvert_exporter": "python",
   "pygments_lexer": "ipython3",
   "version": "3.7.6"
  }
 },
 "nbformat": 4,
 "nbformat_minor": 4
}
