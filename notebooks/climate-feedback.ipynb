{
 "cells": [
  {
   "cell_type": "code",
   "execution_count": 1,
   "metadata": {},
   "outputs": [],
   "source": [
    "import requests\n",
    "from bs4 import BeautifulSoup\n",
    "\n",
    "\n",
    "def clean_text(st):\n",
    "    return st.replace('\\n', '').strip()\n",
    "\n",
    "\n",
    "def process_claim_reviews_row(row):\n",
    "    claim_review_link = row.findAll('a', attrs={'class': 'strong'})\n",
    "    assert len(claim_review_link) == 1\n",
    "\n",
    "    title = claim_review_link[0].findAll('h3', attrs={'class': 'noborder'})\n",
    "    assert len(title) == 1\n",
    "    title = title[0].text\n",
    "    \n",
    "    claim = row.findAll('div', attrs={'class': 'feedpages-excerpt feedpages__claim__container__content__text mb1'})\n",
    "    assert len(claim) == 1\n",
    "    claim = claim[0].text\n",
    "    \n",
    "    verdict = row.findAll('img', attrs={'class': 'fact-check-card__row__verdict__img'})\n",
    "    assert len(verdict) == 1\n",
    "    verdict = verdict[0]['src']\n",
    "    claim_review_link = claim_review_link[0]['href']\n",
    "    article_link = find_article_link(claim_review_link)\n",
    "    return {\n",
    "        'claim-review-link': claim_review_link,\n",
    "        'title': clean_text(title),\n",
    "        'claim': clean_text(claim),\n",
    "        'verdict': ''.join(verdict.split('/')[-1].replace('.png', '').split('_')[1:]),\n",
    "        'article-link': article_link\n",
    "    }\n",
    "\n",
    "\n",
    "def find_article_link(url):\n",
    "    assert 'claimreview' in url\n",
    "\n",
    "    res = requests.get(url)\n",
    "    soup = BeautifulSoup(res.content)\n",
    "\n",
    "    span = soup.findAll('span', attrs={'class': 'fact-check-card__details__text small'})\n",
    "    assert len(span) == 1\n",
    "    link = span[0].findAll('a', attrs={'target': '_blank', 'title': 'See the claim in context'})\n",
    "    return link[0]['href']\n",
    "\n",
    "\n",
    "def main(url):\n",
    "    url = f'https://climatefeedback.org/claim-reviews/{page}'\n",
    "    res = requests.get(url)\n",
    "\n",
    "    print(f'{url} page')\n",
    "    soup = BeautifulSoup(res.content)\n",
    "    main = soup.findAll(\"main\")\n",
    "    assert len(main) == 1\n",
    "    rows = main[0].findAll(\"div\", attrs={\"class\": \"row\"})\n",
    "    \n",
    "    if len(rows) >= 2:\n",
    "        data = [process_claim_reviews_row(r) for r in rows]\n",
    "        return False, data\n",
    "    \n",
    "    else:\n",
    "        return True, []"
   ]
  },
  {
   "cell_type": "markdown",
   "metadata": {},
   "source": [
    "## claimreview page"
   ]
  },
  {
   "cell_type": "code",
   "execution_count": 2,
   "metadata": {},
   "outputs": [
    {
     "data": {
      "text/plain": [
       "'https://archive.fo/OKNmR'"
      ]
     },
     "execution_count": 2,
     "metadata": {},
     "output_type": "execute_result"
    }
   ],
   "source": [
    "url = 'https://climatefeedback.org/claimreview/greenhouse-gases-cause-global-warming-by-trapping-infra-red-radiations-not-by-causing-more-holes-in-the-ozone-layer/'\n",
    "find_article_link(url)"
   ]
  },
  {
   "cell_type": "code",
   "execution_count": 3,
   "metadata": {},
   "outputs": [
    {
     "name": "stdout",
     "output_type": "stream",
     "text": [
      "https://climatefeedback.org/claim-reviews/1 page\n",
      "https://climatefeedback.org/claim-reviews/2 page\n",
      "https://climatefeedback.org/claim-reviews/3 page\n",
      "https://climatefeedback.org/claim-reviews/4 page\n",
      "https://climatefeedback.org/claim-reviews/5 page\n",
      "https://climatefeedback.org/claim-reviews/6 page\n",
      "https://climatefeedback.org/claim-reviews/7 page\n",
      "https://climatefeedback.org/claim-reviews/8 page\n",
      "https://climatefeedback.org/claim-reviews/9 page\n",
      "https://climatefeedback.org/claim-reviews/10 page\n",
      "https://climatefeedback.org/claim-reviews/11 page\n",
      "https://climatefeedback.org/claim-reviews/12 page\n",
      "https://climatefeedback.org/claim-reviews/13 page\n"
     ]
    }
   ],
   "source": [
    "done = False\n",
    "page = 1\n",
    "data = []\n",
    "while not done:\n",
    "    done, rows = main(page)\n",
    "    data.extend(rows)\n",
    "    page += 1\n",
    "    \n",
    "data = pd.DataFrame(data)"
   ]
  },
  {
   "cell_type": "code",
   "execution_count": 4,
   "metadata": {},
   "outputs": [
    {
     "data": {
      "text/html": [
       "<div>\n",
       "<style scoped>\n",
       "    .dataframe tbody tr th:only-of-type {\n",
       "        vertical-align: middle;\n",
       "    }\n",
       "\n",
       "    .dataframe tbody tr th {\n",
       "        vertical-align: top;\n",
       "    }\n",
       "\n",
       "    .dataframe thead th {\n",
       "        text-align: right;\n",
       "    }\n",
       "</style>\n",
       "<table border=\"1\" class=\"dataframe\">\n",
       "  <thead>\n",
       "    <tr style=\"text-align: right;\">\n",
       "      <th></th>\n",
       "      <th>claim-review-link</th>\n",
       "      <th>title</th>\n",
       "      <th>claim</th>\n",
       "      <th>verdict</th>\n",
       "      <th>article-link</th>\n",
       "    </tr>\n",
       "  </thead>\n",
       "  <tbody>\n",
       "    <tr>\n",
       "      <th>0</th>\n",
       "      <td>https://climatefeedback.org/claimreview/climat...</td>\n",
       "      <td>Climate change, forest management and several ...</td>\n",
       "      <td>“Forest fires are caused by poor management. N...</td>\n",
       "      <td>Misleading</td>\n",
       "      <td>https://archive.is/Q2bMd</td>\n",
       "    </tr>\n",
       "    <tr>\n",
       "      <th>1</th>\n",
       "      <td>https://climatefeedback.org/claimreview/wester...</td>\n",
       "      <td>Western US wildfires are not the result of wid...</td>\n",
       "      <td>a distressing number of the [West coast] fires...</td>\n",
       "      <td>Inaccurate</td>\n",
       "      <td>https://archive.is/rSGaK</td>\n",
       "    </tr>\n",
       "    <tr>\n",
       "      <th>2</th>\n",
       "      <td>https://climatefeedback.org/claimreview/planti...</td>\n",
       "      <td>Planting trees can help mitigate some aspects ...</td>\n",
       "      <td>“Trees provide a solution to almost all enviro...</td>\n",
       "      <td>LacksContext</td>\n",
       "      <td>https://www.facebook.com/watch/?v=245623306548369</td>\n",
       "    </tr>\n",
       "    <tr>\n",
       "      <th>3</th>\n",
       "      <td>https://climatefeedback.org/claimreview/the-lo...</td>\n",
       "      <td>The long-term survival of polar bears is threa...</td>\n",
       "      <td>\"Global warming is driving polar bears toward ...</td>\n",
       "      <td>Correct</td>\n",
       "      <td>http://archive.md/xqtY1</td>\n",
       "    </tr>\n",
       "    <tr>\n",
       "      <th>4</th>\n",
       "      <td>https://climatefeedback.org/claimreview/greenh...</td>\n",
       "      <td>Greenhouse gases cause global warming by trapp...</td>\n",
       "      <td>Greenhouse gases emitted into the ocean are ca...</td>\n",
       "      <td>Incorrect</td>\n",
       "      <td>https://archive.fo/OKNmR</td>\n",
       "    </tr>\n",
       "  </tbody>\n",
       "</table>\n",
       "</div>"
      ],
      "text/plain": [
       "                                   claim-review-link  \\\n",
       "0  https://climatefeedback.org/claimreview/climat...   \n",
       "1  https://climatefeedback.org/claimreview/wester...   \n",
       "2  https://climatefeedback.org/claimreview/planti...   \n",
       "3  https://climatefeedback.org/claimreview/the-lo...   \n",
       "4  https://climatefeedback.org/claimreview/greenh...   \n",
       "\n",
       "                                               title  \\\n",
       "0  Climate change, forest management and several ...   \n",
       "1  Western US wildfires are not the result of wid...   \n",
       "2  Planting trees can help mitigate some aspects ...   \n",
       "3  The long-term survival of polar bears is threa...   \n",
       "4  Greenhouse gases cause global warming by trapp...   \n",
       "\n",
       "                                               claim       verdict  \\\n",
       "0  “Forest fires are caused by poor management. N...    Misleading   \n",
       "1  a distressing number of the [West coast] fires...    Inaccurate   \n",
       "2  “Trees provide a solution to almost all enviro...  LacksContext   \n",
       "3  \"Global warming is driving polar bears toward ...       Correct   \n",
       "4  Greenhouse gases emitted into the ocean are ca...     Incorrect   \n",
       "\n",
       "                                        article-link  \n",
       "0                           https://archive.is/Q2bMd  \n",
       "1                           https://archive.is/rSGaK  \n",
       "2  https://www.facebook.com/watch/?v=245623306548369  \n",
       "3                            http://archive.md/xqtY1  \n",
       "4                           https://archive.fo/OKNmR  "
      ]
     },
     "execution_count": 4,
     "metadata": {},
     "output_type": "execute_result"
    }
   ],
   "source": [
    "data.head()"
   ]
  },
  {
   "cell_type": "code",
   "execution_count": 8,
   "metadata": {},
   "outputs": [
    {
     "data": {
      "text/plain": [
       "(115, 5)"
      ]
     },
     "execution_count": 8,
     "metadata": {},
     "output_type": "execute_result"
    }
   ],
   "source": [
    "data.shape"
   ]
  },
  {
   "cell_type": "code",
   "execution_count": 5,
   "metadata": {},
   "outputs": [
    {
     "data": {
      "text/html": [
       "<div>\n",
       "<style scoped>\n",
       "    .dataframe tbody tr th:only-of-type {\n",
       "        vertical-align: middle;\n",
       "    }\n",
       "\n",
       "    .dataframe tbody tr th {\n",
       "        vertical-align: top;\n",
       "    }\n",
       "\n",
       "    .dataframe thead th {\n",
       "        text-align: right;\n",
       "    }\n",
       "</style>\n",
       "<table border=\"1\" class=\"dataframe\">\n",
       "  <thead>\n",
       "    <tr style=\"text-align: right;\">\n",
       "      <th></th>\n",
       "      <th>claim-review-link</th>\n",
       "      <th>title</th>\n",
       "      <th>claim</th>\n",
       "      <th>article-link</th>\n",
       "    </tr>\n",
       "    <tr>\n",
       "      <th>verdict</th>\n",
       "      <th></th>\n",
       "      <th></th>\n",
       "      <th></th>\n",
       "      <th></th>\n",
       "    </tr>\n",
       "  </thead>\n",
       "  <tbody>\n",
       "    <tr>\n",
       "      <th>Accurate</th>\n",
       "      <td>4</td>\n",
       "      <td>4</td>\n",
       "      <td>4</td>\n",
       "      <td>4</td>\n",
       "    </tr>\n",
       "    <tr>\n",
       "      <th>Correct</th>\n",
       "      <td>2</td>\n",
       "      <td>2</td>\n",
       "      <td>2</td>\n",
       "      <td>2</td>\n",
       "    </tr>\n",
       "    <tr>\n",
       "      <th>CorrectBut</th>\n",
       "      <td>1</td>\n",
       "      <td>1</td>\n",
       "      <td>1</td>\n",
       "      <td>1</td>\n",
       "    </tr>\n",
       "    <tr>\n",
       "      <th>FlawedReasoning</th>\n",
       "      <td>7</td>\n",
       "      <td>7</td>\n",
       "      <td>7</td>\n",
       "      <td>7</td>\n",
       "    </tr>\n",
       "    <tr>\n",
       "      <th>Imprecise</th>\n",
       "      <td>1</td>\n",
       "      <td>1</td>\n",
       "      <td>1</td>\n",
       "      <td>1</td>\n",
       "    </tr>\n",
       "    <tr>\n",
       "      <th>Inaccurate</th>\n",
       "      <td>36</td>\n",
       "      <td>36</td>\n",
       "      <td>36</td>\n",
       "      <td>36</td>\n",
       "    </tr>\n",
       "    <tr>\n",
       "      <th>Incorrect</th>\n",
       "      <td>35</td>\n",
       "      <td>35</td>\n",
       "      <td>35</td>\n",
       "      <td>35</td>\n",
       "    </tr>\n",
       "    <tr>\n",
       "      <th>LacksContext</th>\n",
       "      <td>2</td>\n",
       "      <td>2</td>\n",
       "      <td>2</td>\n",
       "      <td>2</td>\n",
       "    </tr>\n",
       "    <tr>\n",
       "      <th>Misleading</th>\n",
       "      <td>13</td>\n",
       "      <td>13</td>\n",
       "      <td>13</td>\n",
       "      <td>13</td>\n",
       "    </tr>\n",
       "    <tr>\n",
       "      <th>MostlyAccurate</th>\n",
       "      <td>2</td>\n",
       "      <td>2</td>\n",
       "      <td>2</td>\n",
       "      <td>2</td>\n",
       "    </tr>\n",
       "    <tr>\n",
       "      <th>MostlyCorrect</th>\n",
       "      <td>3</td>\n",
       "      <td>3</td>\n",
       "      <td>3</td>\n",
       "      <td>3</td>\n",
       "    </tr>\n",
       "    <tr>\n",
       "      <th>Unsupported</th>\n",
       "      <td>9</td>\n",
       "      <td>9</td>\n",
       "      <td>9</td>\n",
       "      <td>9</td>\n",
       "    </tr>\n",
       "  </tbody>\n",
       "</table>\n",
       "</div>"
      ],
      "text/plain": [
       "                 claim-review-link  title  claim  article-link\n",
       "verdict                                                       \n",
       "Accurate                         4      4      4             4\n",
       "Correct                          2      2      2             2\n",
       "CorrectBut                       1      1      1             1\n",
       "FlawedReasoning                  7      7      7             7\n",
       "Imprecise                        1      1      1             1\n",
       "Inaccurate                      36     36     36            36\n",
       "Incorrect                       35     35     35            35\n",
       "LacksContext                     2      2      2             2\n",
       "Misleading                      13     13     13            13\n",
       "MostlyAccurate                   2      2      2             2\n",
       "MostlyCorrect                    3      3      3             3\n",
       "Unsupported                      9      9      9             9"
      ]
     },
     "execution_count": 5,
     "metadata": {},
     "output_type": "execute_result"
    }
   ],
   "source": [
    "data.groupby('verdict').count()"
   ]
  },
  {
   "cell_type": "code",
   "execution_count": 6,
   "metadata": {},
   "outputs": [
    {
     "name": "stdout",
     "output_type": "stream",
     "text": [
      "ParseResult(scheme='https', netloc='www.nytimes.com', path='/2020/06/29/climat', params='', query='', fragment='')\n"
     ]
    },
    {
     "data": {
      "text/plain": [
       "'www.nytimes.com'"
      ]
     },
     "execution_count": 6,
     "metadata": {},
     "output_type": "execute_result"
    }
   ],
   "source": [
    "from urllib.parse import urlparse\n",
    "\n",
    "par = urlparse('https://www.nytimes.com/2020/06/29/climat')\n",
    "print(par)\n",
    "par.netloc"
   ]
  },
  {
   "cell_type": "code",
   "execution_count": 7,
   "metadata": {},
   "outputs": [
    {
     "data": {
      "text/plain": [
       "via.hypothes.is        34\n",
       "archive.fo             23\n",
       "web.archive.org        16\n",
       "hyp.is                 11\n",
       "www.facebook.com       10\n",
       "archive.md              5\n",
       "www.youtube.com         3\n",
       "transcripts.cnn.com     2\n",
       "archive.is              2\n",
       "                        2\n",
       "youtu.be                1\n",
       "twitter.com             1\n",
       "www.nbcnews.com         1\n",
       "www.bbc.com             1\n",
       "www.itv.com             1\n",
       "www.nytimes.com         1\n",
       "news3lv.com             1\n",
       "Name: article-link, dtype: int64"
      ]
     },
     "execution_count": 7,
     "metadata": {},
     "output_type": "execute_result"
    }
   ],
   "source": [
    "data.loc[:, 'article-link'].apply(lambda x: urlparse(x).netloc).value_counts()"
   ]
  },
  {
   "cell_type": "code",
   "execution_count": null,
   "metadata": {},
   "outputs": [],
   "source": []
  }
 ],
 "metadata": {
  "kernelspec": {
   "display_name": "Python 3",
   "language": "python",
   "name": "python3"
  },
  "language_info": {
   "codemirror_mode": {
    "name": "ipython",
    "version": 3
   },
   "file_extension": ".py",
   "mimetype": "text/x-python",
   "name": "python",
   "nbconvert_exporter": "python",
   "pygments_lexer": "ipython3",
   "version": "3.7.6"
  }
 },
 "nbformat": 4,
 "nbformat_minor": 4
}
